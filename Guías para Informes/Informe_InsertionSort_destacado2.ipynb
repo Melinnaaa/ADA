{
  "nbformat": 4,
  "nbformat_minor": 0,
  "metadata": {
    "colab": {
      "name": "InsertionSort.ipynb",
      "provenance": [],
      "collapsed_sections": []
    },
    "kernelspec": {
      "name": "python3",
      "display_name": "Python 3"
    },
    "language_info": {
      "name": "python"
    }
  },
  "cells": [
    {
      "cell_type": "markdown",
      "source": [
        "#**InsertionSort**\n",
        "\n",
        "##1. Descripción del Problema \n",
        "\n",
        "El ordenamiento de datos es quizá uno de los problemas de computación más estudiados, existiendo diversos algoritmos capaces evaluar casos de distinta complejidad y resolverlos. Para ordenar se requiere una serie de datos ordinales (*n* elementos) almacenados en una estructura de datos que los relacione, contando con aquello, el algoritmo debe de ser capaz de entregar una lista ordenada con los datos examinados. El tamaño del problema dependerá de la cantidad de elementos *n* que se busque ordenar.\n",
        "\n",
        "---\n",
        "\n",
        "#### **Entradas y Salidas:**\n",
        "\n",
        "**Entrada**: Serie de n números en una estructura de datos. Ejemplo: $[n_1,n_2,...,n_m]$\n",
        "\n",
        "**Salida**: Secuencia ordenada en base de los datos de entrada. Por lo que si la salida es un arreglo $[n_1',n_2',...,n_m']$, se cumple que $n_1'\\leq n_2' \\leq... \\leq n_m'$ o $n_1'\\ge n_2' \\ge... \\ge n_m'$."
      ],
      "metadata": {
        "id": "QsTHcw6A5krg"
      }
    },
    {
      "cell_type": "markdown",
      "source": [
        "##2. Descripción del Algoritmo\n",
        "\n",
        "Uno de los algoritmos diseñados para la solución del problema anteriormente descrito es el InsertionSort. Este método intenta aplicar un ordenamiento simple y cotidiano en una secuencia de *n* elementos, los cuales recibe en una lista o arreglo, y conforman la entrada de datos. Además, el InsertionSort es capaz de ordenar los elementos sin ayuda de una estructura auxiliar, es decir, cambia de posición los datos para después entregar la lista o arreglo ordenado.\n",
        "\n",
        "---\n",
        "###Pasos a Seguir:\n",
        "\n",
        "A continuación se detallará la implementación del algoritmo en un arreglo \"$a$\", los datos de entrada serán números y en la salida se espera que vayan en orden cresciente:\n",
        "\n",
        "1. En un arreglo inicial de *n* elementos se considera al primer dato $a[0]$ como \"Ordenado\". Por lo será necesario avanzar dentro del arreglo.\n",
        "2. Utilizando un ciclo, el algoritmo recorrerá las *n* posiciones del arreglo. En cada iteración $i$ se realizará una comparación entre $a[i-1]$ (El número de la posición anterior) y $a[i]$ (El número de la posición actual).\n",
        "3. Si $a[i]$ es menor que $a[i-1]$, significa que el elemento en la posición $i$ no está en su ubicación correcta. Entonces el algoritmo comparará el valor clave $a[i]$ con todos los datos encontrados en posiciones anteriores, intercambiando su posición con cada elemento antecesor en el arreglo que sea menor que aquel.\n",
        "4. Una vez que se encontró la posición correcta del valor clave $a[i]$, el ciclo se repetirá hasta haber recorrido todas las posiciones del arreglo.\n",
        "\n",
        "---\n",
        "\n",
        "###Ejemplo de Ejecución:\n",
        "\n",
        "A continuación se muestra un ejemplo de la aplicación del algoritmo:\n",
        "\n",
        "* Considerando el arreglo: \n",
        "####$[5,1,6,2,4,3]$\n",
        "\n",
        "* En la primera iteración **1** es el dato clave y se cambia de posición con **5**.\n",
        "####$[1,5,6,2,4,3]$\n",
        "\n",
        "* En la segunda iteración **6** es el dato clave no necesita un cambio de posición, puesto a que es el número más grande hasta el momento.\n",
        "####$[1,5,6,2,4,3]$\n",
        "\n",
        "* En la tercera iteración el dato clave **2** se intercambia con **6** y con **5**, mas no con **1** ya que este si está en una posición válida respecto a **2**.\n",
        "####$[1,2,5,6,4,3]$\n",
        "\n",
        "* En la cuarta iteración, el dato clave **4** se intercambia de posición hasta quedar entre el **2** y el **5**.\n",
        "####$[1,2,4,5,6,3]$\n",
        "\n",
        "* En la quinta iteración, el **3** se mueve de posición hasta llegar a su ubicación indicada.\n",
        "####$[1,2,3,4,5,6]$\n",
        "\n",
        "* Al finalizar la iteración anterior, el ciclo termina y se entrega el arreglo con los elementos originales ordenados.\n",
        "####Resultado: [1, 2, 3, 4, 5, 6]\n",
        "\n",
        "---\n",
        "\n",
        "\n",
        "\n",
        "\n",
        "\n",
        "\n",
        "\n",
        "\n"
      ],
      "metadata": {
        "id": "OHfFqGLhDgiL"
      }
    },
    {
      "cell_type": "markdown",
      "source": [
        "##3. Implementación del Algoritmo\n",
        "\n",
        "Para demostrar como funciona el algoritmo de ordenamiento InsertionSort, se expone más abajo un ejemplo de código:"
      ],
      "metadata": {
        "id": "PaAEZr8tUHQS"
      }
    },
    {
      "cell_type": "code",
      "source": [
        "from termcolor import colored, cprint\n",
        "\n",
        "#Función Insertion Sort\n",
        "def insertionSort (a, comp, verbose):\n",
        "  for i in range (1, len(a)):\n",
        "    #Definir Dato Clave o Pivote.\n",
        "    key = a[i]\n",
        "    if verbose == True: #Opción Verbose.\n",
        "      print(\"----------------\")\n",
        "      print(f\"Iteración {i}:\")\n",
        "      print(f\"Dato Clave: {key}\")\n",
        "    #Ciclo para Encontrar la Posición del Dato Clave.\n",
        "    for k in range (i-1, -1, -1):\n",
        "      #Contador de Comparaciones.\n",
        "      comp += 1\n",
        "      if verbose == True: #Opción Verbose.\n",
        "        print(f\"\\nComparación {comp}:\")\n",
        "        if k == 0:\n",
        "          print(f\"Arreglo:\", colored(f\"{str(a[k:k+2])[1:-1]},\",\"red\"),str(a[k+2:])[1:-1])\n",
        "        elif k == len(a)-2:\n",
        "          print(f\"Arreglo: {str(a[:k])[1:-1]},\", colored(f\"{str(a[k:k+2])[1:-1]}\",\"red\"))\n",
        "        else:\n",
        "          print(f\"Arreglo: {str(a[:k])[1:-1]},\", colored(f\"{str(a[k:k+2])[1:-1]},\",\"red\"),str(a[k+2:])[1:-1])\n",
        "      #Condición que Verifica si el número Clave está en su posición correcta.\n",
        "      if a[k] < key:\n",
        "        if verbose == True: #Opción Verbose.\n",
        "          print(\"¡NO HAY Swap!\")\n",
        "        break\n",
        "      #Intercambiar de posición los números comparados.\n",
        "      a[k+1] = a[k]\n",
        "      a[k] = key\n",
        "      if verbose == True: #Opción Verbose.\n",
        "        print(\"¡Swap!\")\n",
        "        if k == 0:\n",
        "          print(f\"Arreglo:\", colored(f\"{str(a[k:k+2])[1:-1]},\",\"blue\"),str(a[k+2:])[1:-1])\n",
        "        elif k == len(a)-2:\n",
        "          print(f\"Arreglo: {str(a[:k])[1:-1]},\", colored(f\"{str(a[k:k+2])[1:-1]}\",\"blue\"))\n",
        "        else:\n",
        "          print(f\"Arreglo: {str(a[:k])[1:-1]},\", colored(f\"{str(a[k:k+2])[1:-1]},\",\"blue\"),str(a[k+2:])[1:-1])\n",
        "  return a, comp #Devolver el Arreglo Ordenado y el Número de Comparaciones realizadas.\n",
        "\n",
        "#Datos del Ejemplo\n",
        "datos = [5,1,6,4,3,2]\n",
        "print(\"======================================\")\n",
        "print(\"Arreglo Original: \", datos)\n",
        "datosOrdenados, numComp = insertionSort(datos, 0, verbose = False)\n",
        "print(\"======================================\")\n",
        "print(\"Arreglo Ordenado: \", datosOrdenados)\n",
        "print(\"N° de Comparaciones: \", numComp)\n",
        "print(\"Media de Retrocesos por Elemento:\", numComp/len(datos))"
      ],
      "metadata": {
        "id": "JNH_JM8JDbaR"
      },
      "execution_count": null,
      "outputs": []
    },
    {
      "cell_type": "markdown",
      "source": [
        "##4. Análisis y Propiedades del Algoritmo\n",
        "\n",
        "A continuación se detallarán algunas propiedades que cumple el algoritmo para problemas de ordenamiento InsertionSort.\n",
        "\n",
        "---\n",
        "###Tiempo de Ejecución:\n",
        "El Algoritmo tiene una complejidad temporal de $O(n^2)$ en el peor caso. Esto se aprecia mejor cuando se cuentan la cantidad de operaciones/comparaciones que realiza el algoritmo en el siguiente ejemplo:\n"
      ],
      "metadata": {
        "id": "AtSaKeHCLDyW"
      }
    },
    {
      "cell_type": "code",
      "source": [
        "#Datos del Ejemplo.\n",
        "datos = [16,9,4,1]\n",
        "numComp = 0 #Número de Comparaciones.\n",
        "verbose = True\n",
        "print(\"======================================\")\n",
        "print(\"Arreglo Original: \", datos)\n",
        "datosOrdenados, numComp = insertionSort(datos, numComp, verbose)\n",
        "print(\"======================================\")\n",
        "print(\"Arreglo Ordenado: \", datosOrdenados)\n",
        "print(\"N° de Comparaciones: \", numComp)\n",
        "print(\"Media de Retrocesos por Elemento:\", numComp/len(datos))"
      ],
      "metadata": {
        "id": "K0SMHsjRTlSJ"
      },
      "execution_count": null,
      "outputs": []
    },
    {
      "cell_type": "markdown",
      "source": [
        "Se puede observar en el ejemplo que en todas las **comparaciones** fue necesario realizar un intercambio, lo que conlleva a realizar la mayor cantidad de iteraciones en ambos ciclos *for*. Esto se debe a que el dato **menor** en cada **iteración** se encuentra al final del arreglo, así es como cada *Dato Clave* tuvo que moverse 1, 2 y 3 espacios respectivamente, generando el peor caso posible para el algoritmo.\n",
        "\n",
        "Matemáticamente, se puede expresar la complejidad del peor caso con la fórmula $(n*(n-1))/2$, la cual indicará siempre la cantidad de comparaciones a realizar. Al reducir la expresión quedará $O(n^2)$.\n",
        "\n",
        "---\n",
        "###Correctitud:\n",
        "Se establece el siguiente teorema para el **InsertionSort**: El algoritmo generará un arreglo que conformado por los mismos elementos que recibió de entrada, pero estarán ordenados de menor a mayor (orden cresciente) en el arreglo de salida.\n",
        "\n",
        "El anterior teorema se cumple no sólo entre la entrada y salida de los elementos, sino también después de cada iteración en el bucle principal si se considera un sub-arreglo que va desde el elemento $0$ al $i-1$. Esta propiedad se llama Invariante de Bucle y en el siguiente ejemplo se pone a prueba:"
      ],
      "metadata": {
        "id": "PCkWuQ_qQl6o"
      }
    },
    {
      "cell_type": "code",
      "source": [
        "#Función Insertion Sort\n",
        "def insertionSort (a, comp, verbose):\n",
        "  for i in range (1, len(a)):\n",
        "    #Definir Dato Clave o Pivote.\n",
        "    key = a[i]\n",
        "    if verbose == True: #Opción Verbose.\n",
        "      print(\"----------------\")\n",
        "      print(f\"Iteración {i}:\")\n",
        "      if i == len(a)-1:\n",
        "        aux = colored(a[:i], \"blue\") + ' ' + colored(a[i], \"red\")\n",
        "      else:\n",
        "        aux = colored(a[:i], \"blue\") + ' ' + colored(a[i], \"red\") + ' ' + colored(a[i+1:len(a)], \"green\")\n",
        "      print(f\"Antes de la Iteración: {aux}\")\n",
        "    #Ciclo para Encontrar la Posición del Dato Clave.\n",
        "    for k in range (i-1, -1, -1):\n",
        "      #Contador de Comparaciones.\n",
        "      comp += 1\n",
        "      #Condición que Verifica si el número Clave está en su posición correcta.\n",
        "      if a[k] < key:\n",
        "        break\n",
        "      #Intercambiar de posición los números comparados.\n",
        "      a[k+1] = a[k]\n",
        "      a[k] = key\n",
        "    if verbose == True: #Opción Verbose.\n",
        "      if i == len(a)-2:\n",
        "        aux = colored(a[:i+1], \"blue\") + ' ' + colored(a[i+1], \"red\")\n",
        "      elif i == len(a)-1:\n",
        "        aux = colored(a[:i+1], \"blue\") \n",
        "      else:\n",
        "        aux = colored(a[:i+1], \"blue\") + ' ' + colored(a[i+1], \"red\") + ' ' + colored(a[i+2:len(a)], \"green\")\n",
        "      print(f\"Después de la Iteración: {aux}\")\n",
        "  return a, comp #Devolver el Arreglo Ordenado y el Número de Comparaciones realizadas.\n",
        "\n",
        "\n",
        "#Datos del Ejemplo.\n",
        "datos = [7,2,5,4]\n",
        "numComp = 0 #Número de Comparaciones.\n",
        "verbose = True\n",
        "print(\"======================================\")\n",
        "print(\"Arreglo Original: \", datos)\n",
        "datosOrdenados, numComp = insertionSort(datos, numComp, verbose)\n",
        "print(\"======================================\")\n",
        "print(\"Arreglo Ordenado: \", datosOrdenados)\n",
        "print(\"N° de Comparaciones: \", numComp)\n",
        "print(\"Media de Retrocesos por Elemento:\", numComp/len(datos))"
      ],
      "metadata": {
        "id": "uUgoN3SZdH77"
      },
      "execution_count": null,
      "outputs": []
    },
    {
      "cell_type": "markdown",
      "source": [
        "Con los resultados del ejemplo anterior, se observan dos pruebas que verifican la propiedad invariante de bucle:\n",
        " - **Inicialización**: Antes de la primera iteración, el primer elemento del arreglo forma un sub-arreglo de color azul y de un solo dato, este conjunto cumple con el teorema y por ende, aporta veracidad a la propiedad.\n",
        " - **Mantención**: A lo largo de las 3 iteraciones, se observa que tanto el sub-arreglo inicial como el final están ordenados de menor a mayor. Por lo que cada dato analizado por el algoritmo InsertionSort termina en un sub-arreglo ordenado, lo que cumple con el teorema y permite confirmar la propiedad.\n",
        "\n",
        "Con la propiedad de bucle invariante reafirmada, se puede establecer el teorema de correctitud del algoritmo InsertionSort queda validado, y en consecuencia, el algoritmo funciona correctamente.\n",
        "\n",
        "---"
      ],
      "metadata": {
        "id": "p1B1pmKJo9JZ"
      }
    },
    {
      "cell_type": "markdown",
      "source": [
        "##5. Experimentación\n",
        "\n",
        "Para complementar el análisis hecho, se presentarán una serie de gráficos que experimentan con las características del algoritmo de ordenamiento. Estos gráficos experimentarán con el tiempo de ejecución del InsertionSort:\n",
        "\n",
        "---\n",
        "\n",
        "###Comparaciones en el Mejor y Peor Caso:\n",
        "Para analizar más en detalle el número de comparaciones que se generan en el algoritmo, se utilizará un gráfico para comparar 3 casos:\n",
        "- Cantidad de comparaciones en el *Mejor Caso* $[O(n)]$.\n",
        "- Cantidad de comparaciones en el *Peor Caso* $[O(n^2)]$.\n",
        "- Cantidad de comparaciones con una entrada aleatoria de elementos.\n",
        "\n",
        "El siguiente código creará entradas para ordenar que tengan entre 5 y 20 números. Los números de cada entrada varían entre 1 y 100."
      ],
      "metadata": {
        "id": "Dd2qkUpquzWG"
      }
    },
    {
      "cell_type": "code",
      "source": [
        "import matplotlib.pyplot as plt\n",
        "import random\n",
        "\n",
        "x=[n for n in range(5,21)] \n",
        "y1=[n*(n-1)/2 for n in range(5,21)] #Peor Caso\n",
        "y2=[n-1 for n in range(5,21)] #Mejor Caso\n",
        "y=[]; \n",
        "\n",
        "for n in range(5,21): #Crear una Entrada Aleatoria\n",
        "  a = random.sample(range(1, 100), n)\n",
        "  num = 0\n",
        "  a,counter = insertionSort(a, num, verbose = False)\n",
        "  y.append(counter)\n",
        "\n",
        "plt.plot(x,y)\n",
        "plt.plot(x,y1)\n",
        "plt.plot(x,y2)\n",
        "plt.legend([\"Entradas Aleatorias\", \"Peor Caso O(n^2)\", \"Mejor Caso O(n)\"])\n",
        "\n",
        "plt.xlabel('Cantidad de elementos (n) en la entrada')\n",
        "plt.ylabel('Cantidad de Comparaciones')\n",
        "plt.show()"
      ],
      "metadata": {
        "id": "h58GTmLyWJ1C"
      },
      "execution_count": null,
      "outputs": []
    },
    {
      "cell_type": "markdown",
      "source": [
        "**Análisis**: Si bien, la línea dibujada por las entradas aleatorias quedó por debajo del *Peor Caso* teórico, se puede observar un crecimiento similar en el número de operaciones realizadas a medida de que la cantidad de elementos de entrada aumentan.\n",
        "\n",
        "**Explicación**: El crecimiento similiar entre el *Peor Caso* y las entradas aleatorias demuestran que hay un promedio de casos que operan con una complejidad temporal de $O(n^2). Los casos simulados también se alejan mucho del *Mejor Caso*, por lo que se infiere que es muy poco probable que aquel se presente.\n",
        "\n",
        "---\n",
        "\n",
        "###Arreglo Casi Ordenado:\n",
        "\n",
        "Para verificar si es posible acercarse en la realidad al *Mejor Caso* teórico, el siguiente código probará comparar la cantidad de comparaciones entre arreglos que estén \"casi\" ordenados. Los arreglos serán de 10 elementos y contendrán los números del 1 al 10, sin embargo, cada caso presentará un par de números fuera de lugar. Los arreglos serán:\n",
        "- Arreglo de 10 elementos. Los 2 números fuera de su posición serán el 1 y el 6.\n",
        "- Arreglo de 10 elementos. Los 2 números fuera de su posición serán el 1 y el 4.\n",
        "- Arreglo de 10 elementos. Los 2 números fuera de su posición serán el 1 y el 2.\n",
        "- Un arreglo ordenado (*Mejor Caso*)."
      ],
      "metadata": {
        "id": "B0F9MdbR8V1Z"
      }
    },
    {
      "cell_type": "code",
      "source": [
        "y1=[6,2,3,4,5,1,7,8,9,10]\n",
        "y2=[4,2,3,1,5,6,7,8,9,10]\n",
        "y3=[2,1,3,4,5,6,7,8,9,10]\n",
        "y=[1,2,3,4,5,6,7,8,9,10] #Mejor Caso\n",
        "\n",
        "dato1, num1 = insertionSort(y1, num, verbose = False)\n",
        "dato2, num2 = insertionSort(y2, num, verbose = False)\n",
        "dato3, num3 = insertionSort(y3, num, verbose = False)\n",
        "dato4, num4 = insertionSort(y, num, verbose = False)\n",
        "\n",
        "print(\"N° de Comparaciones de:\")\n",
        "print(f\"Arreglo 1:        {num1}, resultado: {dato1}\")\n",
        "print(f\"Arreglo 2:        {num2}, resultado: {dato2}\")\n",
        "print(f\"Arreglo 3:        {num3},  resultado: {dato3}\")\n",
        "print(f\"Arreglo Ordenado: {num4},  resultado: {dato4}\")"
      ],
      "metadata": {
        "id": "q9NXsrKS-Dfp"
      },
      "execution_count": null,
      "outputs": []
    },
    {
      "cell_type": "markdown",
      "source": [
        "**Análisis**: La idea que los números desordenados tengan cierta distancia \n",
        "demostró que mientras menos posiciones en el arreglo separen a los elementos en desorden, menos comparaciones serán necesarias, y por ende, más cerca queda el algoritmo a su *Mejor Caso* teórico.\n",
        "\n",
        "**Explicación**: El número de comparaciones no depende sólo de que tan ordenado esté el arreglo, sino también de la distancia entre los elementos en desorden, esto se debe a que el algoritmo al encontrar un número en una posición inadecuada comenzará a buscar posición por posición (hacia atrás) el lugar indicado del elemento."
      ],
      "metadata": {
        "id": "Kz94SoF5Khh-"
      }
    },
    {
      "cell_type": "markdown",
      "source": [
        "###Comparación entre InsertionSort y BubbleSort:\n",
        "Otro experimento posible para probar la eficiencia de un algoritmo de ordenamiento, es comparar su rendimiento con otro algortimo. En este caso, se utilizará el método de BubbleSort ordenar arreglos con números aleatorios que tengan entre 25 y 500 elementos.\n",
        "\n",
        "A continuación se presenta el código del BubbleSort a utilizar:"
      ],
      "metadata": {
        "id": "V5oq91l-Fyex"
      }
    },
    {
      "cell_type": "code",
      "source": [
        "def bubble_sort(a, verbose=False):\n",
        "    n = len(a)\n",
        "    T = 0 #contador de comparaciones\n",
        "    for i in range(1,n+1):\n",
        "        # Flag que indica si el arreglo ya se encuentra ordenado\n",
        "        already_sorted = True\n",
        "        # Se recorre el arreglo\n",
        "        for j in range(n - i):\n",
        "            T +=1\n",
        "            if a[j] > a[j + 1]:\n",
        "                # Si el elemento es mayor al siguiente se intercambia\n",
        "                a[j], a[j + 1] = a[j + 1], a[j]\n",
        "                already_sorted = False\n",
        "        if already_sorted:\n",
        "            break\n",
        "    return a, T"
      ],
      "metadata": {
        "id": "Kwlf_5msGS0P"
      },
      "execution_count": null,
      "outputs": []
    },
    {
      "cell_type": "markdown",
      "source": [
        "El siguiente trozo de código creará una gráfica que comparará ambos métodos de ordenamiento:"
      ],
      "metadata": {
        "id": "w86LiTURQ4cM"
      }
    },
    {
      "cell_type": "code",
      "source": [
        "import datetime\n",
        "from timeit import repeat\n",
        "\n",
        "x=[]; y=[]\n",
        "x1=[]; y1=[]\n",
        "\n",
        "for n in range(25,500):\n",
        "\n",
        "  a = random.sample(range(1, 500), n)\n",
        "\n",
        "  num = 0\n",
        "  verbose = False\n",
        "  #La función repeat ejecuta 20 veces los algoritmos de ordenamiento con el arreglo a y retorna el mejor tiempo obtenido.\n",
        "  t = repeat(setup=\"from __main__ import insertionSort\", stmt=f\"insertionSort({a},{num},{verbose})\", repeat=1, number=10)\n",
        "  t2 = repeat(setup=\"from __main__ import bubble_sort\", stmt=f\"bubble_sort({a})\", repeat=1, number=10)\n",
        "\n",
        "  x.append(n)\n",
        "  y.append(t)\n",
        "  x1.append(n)\n",
        "  y1.append(t2)\n",
        "\n",
        "\n",
        "plt.plot(x,y)\n",
        "plt.plot(x1,y1)\n",
        "plt.legend([\"InsertionSort\",\"BubbleSort\"])\n",
        "\n",
        "plt.xlabel('Cantidad de Elementos en el Arreglo')\n",
        "plt.ylabel('Tiempo en Milisegundos')\n",
        "plt.show()\n"
      ],
      "metadata": {
        "id": "7MlbCg03Zfwk"
      },
      "execution_count": null,
      "outputs": []
    },
    {
      "cell_type": "markdown",
      "source": [
        "**Análisis**: Se puede observar que el BubbleSort tiende a tardar un poco más que el InsertionSort en ordenar los arreglos aleatorios. Es de resaltar que ambos algoritmos presentaron *peaks* en ciertos puntos del gráfico, al ser un experimento aleatorio, es esperable.\n",
        "\n",
        "**Explicación**: Pese a que se aprecia una diferencia en el tiempo que deja ver al InsertionSort como más eficiente, ambos algoritmos presentan un crecimiento cuadrático evidenciable conforme aumenta la cantidad de elementos en el arreglo generado. Bajo lo anterior, se confirma que ambos tienen complejidad $O(n^2)$."
      ],
      "metadata": {
        "id": "UIncIjm2RK0u"
      }
    }
  ]
}
